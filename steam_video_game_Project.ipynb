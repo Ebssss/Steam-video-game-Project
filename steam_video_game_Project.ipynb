{
  "cells": [
    {
      "cell_type": "markdown",
      "metadata": {
        "id": "WHwPI3DlzBpJ"
      },
      "source": [
        "# STEAM VIDEO GAMES RECOMMENDATION SYSTEM\n",
        "\n",
        "we need to recommend the similar games to the user based on their behaviour"
      ]
    },
    {
      "cell_type": "markdown",
      "metadata": {
        "id": "zcySz1hYzkSm"
      },
      "source": [
        "#About dataset\n",
        "This dataset is a list of user behaviors, with columns: user-id, game-title, behavior-name, value. The behaviors included are 'purchase' and 'play'. The value indicates the degree to which the behavior was performed - in the case of 'purchase' the value is always 1, and in the case of 'play' the value represents the number of hours the user has played the game.\n",
        "\n",
        "steam-200k - (199999, 5)"
      ]
    },
    {
      "cell_type": "markdown",
      "metadata": {
        "id": "7QXgFO_Zzsj6"
      },
      "source": [
        "# Columns in dataset\n",
        "user-id\n",
        "\n",
        "game-title\n",
        "\n",
        "behavior-name\n",
        "\n",
        "value\n",
        "\n",
        "0"
      ]
    },
    {
      "cell_type": "code",
      "source": [
        "from google.colab import drive\n",
        "drive.mount('/content/drive')"
      ],
      "metadata": {
        "colab": {
          "base_uri": "https://localhost:8080/"
        },
        "id": "P4qssRfMJ8Pz",
        "outputId": "a6096626-5883-4a8f-ac91-b7697414055d"
      },
      "execution_count": 1,
      "outputs": [
        {
          "output_type": "stream",
          "name": "stdout",
          "text": [
            "Drive already mounted at /content/drive; to attempt to forcibly remount, call drive.mount(\"/content/drive\", force_remount=True).\n"
          ]
        }
      ]
    },
    {
      "cell_type": "code",
      "source": [
        "!ls \"/content/drive/My Drive\""
      ],
      "metadata": {
        "colab": {
          "base_uri": "https://localhost:8080/"
        },
        "id": "61pndwcULxIQ",
        "outputId": "91a68bf1-3a5f-46e1-becb-3369e8f2f9b6"
      },
      "execution_count": 2,
      "outputs": [
        {
          "output_type": "stream",
          "name": "stdout",
          "text": [
            "'Colab Notebooks'   steam-200k.csv\n",
            " For_modeling.csv   winequality-white.gsheet\n"
          ]
        }
      ]
    },
    {
      "cell_type": "code",
      "execution_count": 3,
      "metadata": {
        "id": "UxedlBqLZiew"
      },
      "outputs": [],
      "source": [
        "# importing all the necessary libraries\n",
        "import numpy as np\n",
        "import pandas as pd\n",
        "import matplotlib.pyplot as plt\n",
        "import seaborn as sns\n",
        "\n",
        "# importing cosine similarity\n",
        "from sklearn.metrics.pairwise import cosine_similarity"
      ]
    },
    {
      "cell_type": "code",
      "execution_count": 4,
      "metadata": {
        "colab": {
          "base_uri": "https://localhost:8080/",
          "height": 206
        },
        "id": "0YPYDltXZidl",
        "outputId": "5651e80f-0bad-42a4-b699-5ff28f2569a1"
      },
      "outputs": [
        {
          "output_type": "execute_result",
          "data": {
            "text/plain": [
              "   151603712  The Elder Scrolls V Skyrim  purchase    1.0  0\n",
              "0  151603712  The Elder Scrolls V Skyrim      play  273.0  0\n",
              "1  151603712                   Fallout 4  purchase    1.0  0\n",
              "2  151603712                   Fallout 4      play   87.0  0\n",
              "3  151603712                       Spore  purchase    1.0  0\n",
              "4  151603712                       Spore      play   14.9  0"
            ],
            "text/html": [
              "\n",
              "  <div id=\"df-f417699c-d0d4-4441-a5f0-1e0bd4d093b1\">\n",
              "    <div class=\"colab-df-container\">\n",
              "      <div>\n",
              "<style scoped>\n",
              "    .dataframe tbody tr th:only-of-type {\n",
              "        vertical-align: middle;\n",
              "    }\n",
              "\n",
              "    .dataframe tbody tr th {\n",
              "        vertical-align: top;\n",
              "    }\n",
              "\n",
              "    .dataframe thead th {\n",
              "        text-align: right;\n",
              "    }\n",
              "</style>\n",
              "<table border=\"1\" class=\"dataframe\">\n",
              "  <thead>\n",
              "    <tr style=\"text-align: right;\">\n",
              "      <th></th>\n",
              "      <th>151603712</th>\n",
              "      <th>The Elder Scrolls V Skyrim</th>\n",
              "      <th>purchase</th>\n",
              "      <th>1.0</th>\n",
              "      <th>0</th>\n",
              "    </tr>\n",
              "  </thead>\n",
              "  <tbody>\n",
              "    <tr>\n",
              "      <th>0</th>\n",
              "      <td>151603712</td>\n",
              "      <td>The Elder Scrolls V Skyrim</td>\n",
              "      <td>play</td>\n",
              "      <td>273.0</td>\n",
              "      <td>0</td>\n",
              "    </tr>\n",
              "    <tr>\n",
              "      <th>1</th>\n",
              "      <td>151603712</td>\n",
              "      <td>Fallout 4</td>\n",
              "      <td>purchase</td>\n",
              "      <td>1.0</td>\n",
              "      <td>0</td>\n",
              "    </tr>\n",
              "    <tr>\n",
              "      <th>2</th>\n",
              "      <td>151603712</td>\n",
              "      <td>Fallout 4</td>\n",
              "      <td>play</td>\n",
              "      <td>87.0</td>\n",
              "      <td>0</td>\n",
              "    </tr>\n",
              "    <tr>\n",
              "      <th>3</th>\n",
              "      <td>151603712</td>\n",
              "      <td>Spore</td>\n",
              "      <td>purchase</td>\n",
              "      <td>1.0</td>\n",
              "      <td>0</td>\n",
              "    </tr>\n",
              "    <tr>\n",
              "      <th>4</th>\n",
              "      <td>151603712</td>\n",
              "      <td>Spore</td>\n",
              "      <td>play</td>\n",
              "      <td>14.9</td>\n",
              "      <td>0</td>\n",
              "    </tr>\n",
              "  </tbody>\n",
              "</table>\n",
              "</div>\n",
              "      <button class=\"colab-df-convert\" onclick=\"convertToInteractive('df-f417699c-d0d4-4441-a5f0-1e0bd4d093b1')\"\n",
              "              title=\"Convert this dataframe to an interactive table.\"\n",
              "              style=\"display:none;\">\n",
              "        \n",
              "  <svg xmlns=\"http://www.w3.org/2000/svg\" height=\"24px\"viewBox=\"0 0 24 24\"\n",
              "       width=\"24px\">\n",
              "    <path d=\"M0 0h24v24H0V0z\" fill=\"none\"/>\n",
              "    <path d=\"M18.56 5.44l.94 2.06.94-2.06 2.06-.94-2.06-.94-.94-2.06-.94 2.06-2.06.94zm-11 1L8.5 8.5l.94-2.06 2.06-.94-2.06-.94L8.5 2.5l-.94 2.06-2.06.94zm10 10l.94 2.06.94-2.06 2.06-.94-2.06-.94-.94-2.06-.94 2.06-2.06.94z\"/><path d=\"M17.41 7.96l-1.37-1.37c-.4-.4-.92-.59-1.43-.59-.52 0-1.04.2-1.43.59L10.3 9.45l-7.72 7.72c-.78.78-.78 2.05 0 2.83L4 21.41c.39.39.9.59 1.41.59.51 0 1.02-.2 1.41-.59l7.78-7.78 2.81-2.81c.8-.78.8-2.07 0-2.86zM5.41 20L4 18.59l7.72-7.72 1.47 1.35L5.41 20z\"/>\n",
              "  </svg>\n",
              "      </button>\n",
              "      \n",
              "  <style>\n",
              "    .colab-df-container {\n",
              "      display:flex;\n",
              "      flex-wrap:wrap;\n",
              "      gap: 12px;\n",
              "    }\n",
              "\n",
              "    .colab-df-convert {\n",
              "      background-color: #E8F0FE;\n",
              "      border: none;\n",
              "      border-radius: 50%;\n",
              "      cursor: pointer;\n",
              "      display: none;\n",
              "      fill: #1967D2;\n",
              "      height: 32px;\n",
              "      padding: 0 0 0 0;\n",
              "      width: 32px;\n",
              "    }\n",
              "\n",
              "    .colab-df-convert:hover {\n",
              "      background-color: #E2EBFA;\n",
              "      box-shadow: 0px 1px 2px rgba(60, 64, 67, 0.3), 0px 1px 3px 1px rgba(60, 64, 67, 0.15);\n",
              "      fill: #174EA6;\n",
              "    }\n",
              "\n",
              "    [theme=dark] .colab-df-convert {\n",
              "      background-color: #3B4455;\n",
              "      fill: #D2E3FC;\n",
              "    }\n",
              "\n",
              "    [theme=dark] .colab-df-convert:hover {\n",
              "      background-color: #434B5C;\n",
              "      box-shadow: 0px 1px 3px 1px rgba(0, 0, 0, 0.15);\n",
              "      filter: drop-shadow(0px 1px 2px rgba(0, 0, 0, 0.3));\n",
              "      fill: #FFFFFF;\n",
              "    }\n",
              "  </style>\n",
              "\n",
              "      <script>\n",
              "        const buttonEl =\n",
              "          document.querySelector('#df-f417699c-d0d4-4441-a5f0-1e0bd4d093b1 button.colab-df-convert');\n",
              "        buttonEl.style.display =\n",
              "          google.colab.kernel.accessAllowed ? 'block' : 'none';\n",
              "\n",
              "        async function convertToInteractive(key) {\n",
              "          const element = document.querySelector('#df-f417699c-d0d4-4441-a5f0-1e0bd4d093b1');\n",
              "          const dataTable =\n",
              "            await google.colab.kernel.invokeFunction('convertToInteractive',\n",
              "                                                     [key], {});\n",
              "          if (!dataTable) return;\n",
              "\n",
              "          const docLinkHtml = 'Like what you see? Visit the ' +\n",
              "            '<a target=\"_blank\" href=https://colab.research.google.com/notebooks/data_table.ipynb>data table notebook</a>'\n",
              "            + ' to learn more about interactive tables.';\n",
              "          element.innerHTML = '';\n",
              "          dataTable['output_type'] = 'display_data';\n",
              "          await google.colab.output.renderOutput(dataTable, element);\n",
              "          const docLink = document.createElement('div');\n",
              "          docLink.innerHTML = docLinkHtml;\n",
              "          element.appendChild(docLink);\n",
              "        }\n",
              "      </script>\n",
              "    </div>\n",
              "  </div>\n",
              "  "
            ]
          },
          "metadata": {},
          "execution_count": 4
        }
      ],
      "source": [
        "# Reading csv file using pandas\n",
        "\n",
        "data = pd.read_csv('/content/drive/My Drive/steam-200k.csv')\n",
        "data.head()"
      ]
    },
    {
      "cell_type": "markdown",
      "metadata": {
        "id": "h8Uu6HJ3viSr"
      },
      "source": [
        "# EDA"
      ]
    },
    {
      "cell_type": "code",
      "execution_count": 5,
      "metadata": {
        "id": "WCPhWXucZiaf"
      },
      "outputs": [],
      "source": [
        "# renaming the column name as games user_id, hoursplay and status\n",
        "\n",
        "data= data.rename(columns={'151603712' : 'User_Id', 'The Elder Scrolls V Skyrim' : 'games', 'purchase' : 'Status', '1.0':'Hoursplay'})"
      ]
    },
    {
      "cell_type": "code",
      "execution_count": 6,
      "metadata": {
        "id": "FjXsB0ixZiZb"
      },
      "outputs": [],
      "source": [
        "#droping 0 column\n",
        "data.drop(columns='0', inplace =True)"
      ]
    },
    {
      "cell_type": "code",
      "execution_count": 7,
      "metadata": {
        "id": "QeH3M09xJCC-"
      },
      "outputs": [],
      "source": [
        "#droping duplicate user_id and games keep the last one\n",
        "\n",
        "data = data.drop_duplicates(['User_Id', 'games'], keep='last')"
      ]
    },
    {
      "cell_type": "code",
      "execution_count": 8,
      "metadata": {
        "colab": {
          "base_uri": "https://localhost:8080/"
        },
        "id": "GKdK4DCiv9k8",
        "outputId": "ee4f468d-372a-4067-a532-83b22a52afea"
      },
      "outputs": [
        {
          "output_type": "execute_result",
          "data": {
            "text/plain": [
              "(128804, 4)"
            ]
          },
          "metadata": {},
          "execution_count": 8
        }
      ],
      "source": [
        "#checking the shape of the dataset\n",
        "\n",
        "data.shape"
      ]
    },
    {
      "cell_type": "code",
      "execution_count": 9,
      "metadata": {
        "colab": {
          "base_uri": "https://localhost:8080/"
        },
        "id": "cFWsJSFav9jQ",
        "outputId": "84eb2216-01bd-414a-d2ef-52af993aca58"
      },
      "outputs": [
        {
          "output_type": "execute_result",
          "data": {
            "text/plain": [
              "Index(['User_Id', 'games', 'Status', 'Hoursplay'], dtype='object')"
            ]
          },
          "metadata": {},
          "execution_count": 9
        }
      ],
      "source": [
        "#checking columns of the dataset\n",
        "\n",
        "data.columns"
      ]
    },
    {
      "cell_type": "code",
      "execution_count": 10,
      "metadata": {
        "colab": {
          "base_uri": "https://localhost:8080/"
        },
        "id": "cfmQuScuv9gu",
        "outputId": "9c5d85d4-138b-4768-e56e-a72256557a17"
      },
      "outputs": [
        {
          "output_type": "stream",
          "name": "stdout",
          "text": [
            "<class 'pandas.core.frame.DataFrame'>\n",
            "Int64Index: 128804 entries, 0 to 199998\n",
            "Data columns (total 4 columns):\n",
            " #   Column     Non-Null Count   Dtype  \n",
            "---  ------     --------------   -----  \n",
            " 0   User_Id    128804 non-null  int64  \n",
            " 1   games      128804 non-null  object \n",
            " 2   Status     128804 non-null  object \n",
            " 3   Hoursplay  128804 non-null  float64\n",
            "dtypes: float64(1), int64(1), object(2)\n",
            "memory usage: 4.9+ MB\n"
          ]
        }
      ],
      "source": [
        "# Checking which columns are having categorical, numerical or boolean values of dataset\n",
        "\n",
        "data.info()"
      ]
    },
    {
      "cell_type": "code",
      "execution_count": 11,
      "metadata": {
        "colab": {
          "base_uri": "https://localhost:8080/"
        },
        "id": "4SAr4k5Wv9eS",
        "outputId": "ade4e9c2-8a10-4e55-f2b1-cbc1e2b78626"
      },
      "outputs": [
        {
          "output_type": "execute_result",
          "data": {
            "text/plain": [
              "User_Id      0\n",
              "games        0\n",
              "Status       0\n",
              "Hoursplay    0\n",
              "dtype: int64"
            ]
          },
          "metadata": {},
          "execution_count": 11
        }
      ],
      "source": [
        "# Checking for missing values in all the columnns of the train_dataset\n",
        "\n",
        "data.isnull().sum()"
      ]
    },
    {
      "cell_type": "code",
      "execution_count": 12,
      "metadata": {
        "colab": {
          "base_uri": "https://localhost:8080/"
        },
        "id": "fGOiyPTkv9cC",
        "outputId": "5315a0cb-371e-4a7b-f8c1-4ba1a0b20644"
      },
      "outputs": [
        {
          "output_type": "execute_result",
          "data": {
            "text/plain": [
              "Dota 2                              4841\n",
              "Team Fortress 2                     2323\n",
              "Unturned                            1563\n",
              "Counter-Strike Global Offensive     1412\n",
              "Half-Life 2 Lost Coast               981\n",
              "                                    ... \n",
              "iBomber Attack                         1\n",
              "The Dreamatorium of Dr. Magnus 2       1\n",
              "Verde Station                          1\n",
              "TRIP Steam Edition                     1\n",
              "Executive Assault                      1\n",
              "Name: games, Length: 5155, dtype: int64"
            ]
          },
          "metadata": {},
          "execution_count": 12
        }
      ],
      "source": [
        "#unique values in games column of dataset\n",
        "\n",
        "data.games.value_counts()"
      ]
    },
    {
      "cell_type": "code",
      "execution_count": 13,
      "metadata": {
        "colab": {
          "base_uri": "https://localhost:8080/"
        },
        "id": "QgE7Fw_Nv9aA",
        "outputId": "ef1e0c8f-cdba-4bd8-b894-bae9f8c022a4"
      },
      "outputs": [
        {
          "output_type": "execute_result",
          "data": {
            "text/plain": [
              "Status\n",
              "play        70205\n",
              "purchase    58599\n",
              "Name: Status, dtype: int64"
            ]
          },
          "metadata": {},
          "execution_count": 13
        }
      ],
      "source": [
        "# total count of play and total count of purchase\n",
        "\n",
        "total_purchase = data.groupby('Status')['Status'].agg('count')\n",
        "total_purchase"
      ]
    },
    {
      "cell_type": "code",
      "execution_count": 14,
      "metadata": {
        "colab": {
          "base_uri": "https://localhost:8080/",
          "height": 300
        },
        "id": "1VxaHrDfv9Wo",
        "outputId": "38b0af44-a6cf-4d96-ca63-38803b4abd02"
      },
      "outputs": [
        {
          "output_type": "execute_result",
          "data": {
            "text/plain": [
              "            User_Id      Hoursplay\n",
              "count  1.288040e+05  128804.000000\n",
              "mean   1.025343e+08      27.150648\n",
              "std    7.242875e+07     171.276192\n",
              "min    5.250000e+03       0.100000\n",
              "25%    4.559264e+07       1.000000\n",
              "50%    8.605570e+07       1.000000\n",
              "75%    1.542307e+08       5.700000\n",
              "max    3.099031e+08   11754.000000"
            ],
            "text/html": [
              "\n",
              "  <div id=\"df-9e1b9809-7ac2-4847-a166-6e62ba31e846\">\n",
              "    <div class=\"colab-df-container\">\n",
              "      <div>\n",
              "<style scoped>\n",
              "    .dataframe tbody tr th:only-of-type {\n",
              "        vertical-align: middle;\n",
              "    }\n",
              "\n",
              "    .dataframe tbody tr th {\n",
              "        vertical-align: top;\n",
              "    }\n",
              "\n",
              "    .dataframe thead th {\n",
              "        text-align: right;\n",
              "    }\n",
              "</style>\n",
              "<table border=\"1\" class=\"dataframe\">\n",
              "  <thead>\n",
              "    <tr style=\"text-align: right;\">\n",
              "      <th></th>\n",
              "      <th>User_Id</th>\n",
              "      <th>Hoursplay</th>\n",
              "    </tr>\n",
              "  </thead>\n",
              "  <tbody>\n",
              "    <tr>\n",
              "      <th>count</th>\n",
              "      <td>1.288040e+05</td>\n",
              "      <td>128804.000000</td>\n",
              "    </tr>\n",
              "    <tr>\n",
              "      <th>mean</th>\n",
              "      <td>1.025343e+08</td>\n",
              "      <td>27.150648</td>\n",
              "    </tr>\n",
              "    <tr>\n",
              "      <th>std</th>\n",
              "      <td>7.242875e+07</td>\n",
              "      <td>171.276192</td>\n",
              "    </tr>\n",
              "    <tr>\n",
              "      <th>min</th>\n",
              "      <td>5.250000e+03</td>\n",
              "      <td>0.100000</td>\n",
              "    </tr>\n",
              "    <tr>\n",
              "      <th>25%</th>\n",
              "      <td>4.559264e+07</td>\n",
              "      <td>1.000000</td>\n",
              "    </tr>\n",
              "    <tr>\n",
              "      <th>50%</th>\n",
              "      <td>8.605570e+07</td>\n",
              "      <td>1.000000</td>\n",
              "    </tr>\n",
              "    <tr>\n",
              "      <th>75%</th>\n",
              "      <td>1.542307e+08</td>\n",
              "      <td>5.700000</td>\n",
              "    </tr>\n",
              "    <tr>\n",
              "      <th>max</th>\n",
              "      <td>3.099031e+08</td>\n",
              "      <td>11754.000000</td>\n",
              "    </tr>\n",
              "  </tbody>\n",
              "</table>\n",
              "</div>\n",
              "      <button class=\"colab-df-convert\" onclick=\"convertToInteractive('df-9e1b9809-7ac2-4847-a166-6e62ba31e846')\"\n",
              "              title=\"Convert this dataframe to an interactive table.\"\n",
              "              style=\"display:none;\">\n",
              "        \n",
              "  <svg xmlns=\"http://www.w3.org/2000/svg\" height=\"24px\"viewBox=\"0 0 24 24\"\n",
              "       width=\"24px\">\n",
              "    <path d=\"M0 0h24v24H0V0z\" fill=\"none\"/>\n",
              "    <path d=\"M18.56 5.44l.94 2.06.94-2.06 2.06-.94-2.06-.94-.94-2.06-.94 2.06-2.06.94zm-11 1L8.5 8.5l.94-2.06 2.06-.94-2.06-.94L8.5 2.5l-.94 2.06-2.06.94zm10 10l.94 2.06.94-2.06 2.06-.94-2.06-.94-.94-2.06-.94 2.06-2.06.94z\"/><path d=\"M17.41 7.96l-1.37-1.37c-.4-.4-.92-.59-1.43-.59-.52 0-1.04.2-1.43.59L10.3 9.45l-7.72 7.72c-.78.78-.78 2.05 0 2.83L4 21.41c.39.39.9.59 1.41.59.51 0 1.02-.2 1.41-.59l7.78-7.78 2.81-2.81c.8-.78.8-2.07 0-2.86zM5.41 20L4 18.59l7.72-7.72 1.47 1.35L5.41 20z\"/>\n",
              "  </svg>\n",
              "      </button>\n",
              "      \n",
              "  <style>\n",
              "    .colab-df-container {\n",
              "      display:flex;\n",
              "      flex-wrap:wrap;\n",
              "      gap: 12px;\n",
              "    }\n",
              "\n",
              "    .colab-df-convert {\n",
              "      background-color: #E8F0FE;\n",
              "      border: none;\n",
              "      border-radius: 50%;\n",
              "      cursor: pointer;\n",
              "      display: none;\n",
              "      fill: #1967D2;\n",
              "      height: 32px;\n",
              "      padding: 0 0 0 0;\n",
              "      width: 32px;\n",
              "    }\n",
              "\n",
              "    .colab-df-convert:hover {\n",
              "      background-color: #E2EBFA;\n",
              "      box-shadow: 0px 1px 2px rgba(60, 64, 67, 0.3), 0px 1px 3px 1px rgba(60, 64, 67, 0.15);\n",
              "      fill: #174EA6;\n",
              "    }\n",
              "\n",
              "    [theme=dark] .colab-df-convert {\n",
              "      background-color: #3B4455;\n",
              "      fill: #D2E3FC;\n",
              "    }\n",
              "\n",
              "    [theme=dark] .colab-df-convert:hover {\n",
              "      background-color: #434B5C;\n",
              "      box-shadow: 0px 1px 3px 1px rgba(0, 0, 0, 0.15);\n",
              "      filter: drop-shadow(0px 1px 2px rgba(0, 0, 0, 0.3));\n",
              "      fill: #FFFFFF;\n",
              "    }\n",
              "  </style>\n",
              "\n",
              "      <script>\n",
              "        const buttonEl =\n",
              "          document.querySelector('#df-9e1b9809-7ac2-4847-a166-6e62ba31e846 button.colab-df-convert');\n",
              "        buttonEl.style.display =\n",
              "          google.colab.kernel.accessAllowed ? 'block' : 'none';\n",
              "\n",
              "        async function convertToInteractive(key) {\n",
              "          const element = document.querySelector('#df-9e1b9809-7ac2-4847-a166-6e62ba31e846');\n",
              "          const dataTable =\n",
              "            await google.colab.kernel.invokeFunction('convertToInteractive',\n",
              "                                                     [key], {});\n",
              "          if (!dataTable) return;\n",
              "\n",
              "          const docLinkHtml = 'Like what you see? Visit the ' +\n",
              "            '<a target=\"_blank\" href=https://colab.research.google.com/notebooks/data_table.ipynb>data table notebook</a>'\n",
              "            + ' to learn more about interactive tables.';\n",
              "          element.innerHTML = '';\n",
              "          dataTable['output_type'] = 'display_data';\n",
              "          await google.colab.output.renderOutput(dataTable, element);\n",
              "          const docLink = document.createElement('div');\n",
              "          docLink.innerHTML = docLinkHtml;\n",
              "          element.appendChild(docLink);\n",
              "        }\n",
              "      </script>\n",
              "    </div>\n",
              "  </div>\n",
              "  "
            ]
          },
          "metadata": {},
          "execution_count": 14
        }
      ],
      "source": [
        "# For more information on the dataset like the total count in all the columns\n",
        "# min, max values and more information of the respective columns  \n",
        "\n",
        "\n",
        "data.describe()"
      ]
    },
    {
      "cell_type": "markdown",
      "metadata": {
        "id": "3CgbroNkKA5F"
      },
      "source": [
        "## visualizing data"
      ]
    },
    {
      "cell_type": "code",
      "execution_count": 15,
      "metadata": {
        "colab": {
          "base_uri": "https://localhost:8080/",
          "height": 564
        },
        "id": "5OuxsDTIv9VK",
        "outputId": "7628c9ec-c5a5-4691-aef7-d9ca342cce32"
      },
      "outputs": [
        {
          "output_type": "execute_result",
          "data": {
            "text/plain": [
              "array([[<matplotlib.axes._subplots.AxesSubplot object at 0x7f2d33b60490>,\n",
              "        <matplotlib.axes._subplots.AxesSubplot object at 0x7f2d33ab9a50>]],\n",
              "      dtype=object)"
            ]
          },
          "metadata": {},
          "execution_count": 15
        },
        {
          "output_type": "display_data",
          "data": {
            "text/plain": [
              "<Figure size 1080x576 with 2 Axes>"
            ],
            "image/png": "[encoded data removed]"
          },
          "metadata": {
            "needs_background": "light"
          }
        }
      ],
      "source": [
        "# Histogram using pandas \n",
        "\n",
        "data.hist(figsize=(15,8))"
      ]
    },
    {
      "cell_type": "code",
      "execution_count": 16,
      "metadata": {
        "colab": {
          "base_uri": "https://localhost:8080/",
          "height": 298
        },
        "id": "8XQcDkwiv9Rx",
        "outputId": "e73a0145-0293-4d2c-9bff-d047111ee5fb"
      },
      "outputs": [
        {
          "output_type": "execute_result",
          "data": {
            "text/plain": [
              "Text(0.5, 1.0, 'Status columns freequency')"
            ]
          },
          "metadata": {},
          "execution_count": 16
        },
        {
          "output_type": "display_data",
          "data": {
            "text/plain": [
              "<Figure size 432x288 with 1 Axes>"
            ],
            "image/png": "[encoded data removed]"
          },
          "metadata": {
            "needs_background": "light"
          }
        }
      ],
      "source": [
        "# plotting a horizontal bar plot of column status\n",
        "\n",
        "data['Status'].value_counts().plot.barh().set_title('Status columns freequency')"
      ]
    },
    {
      "cell_type": "code",
      "execution_count": 17,
      "metadata": {
        "colab": {
          "base_uri": "https://localhost:8080/",
          "height": 282
        },
        "id": "o45Z0Ngav9Mt",
        "outputId": "37ca775c-0d76-4217-a33c-0b911b12631b"
      },
      "outputs": [
        {
          "output_type": "execute_result",
          "data": {
            "text/plain": [
              "<matplotlib.axes._subplots.AxesSubplot at 0x7f2d334a2590>"
            ]
          },
          "metadata": {},
          "execution_count": 17
        },
        {
          "output_type": "display_data",
          "data": {
            "text/plain": [
              "<Figure size 432x288 with 1 Axes>"
            ],
            "image/png": "[encoded data removed]"
          },
          "metadata": {
            "needs_background": "light"
          }
        }
      ],
      "source": [
        "#plotting a count plot of hoursplay column\n",
        "\n",
        "data['Hoursplay'].plot()"
      ]
    },
    {
      "cell_type": "code",
      "execution_count": 18,
      "metadata": {
        "colab": {
          "base_uri": "https://localhost:8080/",
          "height": 337
        },
        "id": "e2ddFJDbv9La",
        "outputId": "887dc41d-41ff-4bab-fcfb-3d59855815de"
      },
      "outputs": [
        {
          "output_type": "execute_result",
          "data": {
            "text/plain": [
              "<matplotlib.axes._subplots.AxesSubplot at 0x7f2d3341c350>"
            ]
          },
          "metadata": {},
          "execution_count": 18
        },
        {
          "output_type": "display_data",
          "data": {
            "text/plain": [
              "<Figure size 720x360 with 1 Axes>"
            ],
            "image/png": "[encoded data removed]"
          },
          "metadata": {
            "needs_background": "light"
          }
        }
      ],
      "source": [
        "# plotting a horizontal bar plot of games column for top 30 games\n",
        "\n",
        "data['games'].value_counts().head(30).plot.barh(figsize=(10,5))"
      ]
    },
    {
      "cell_type": "code",
      "execution_count": 19,
      "metadata": {
        "colab": {
          "base_uri": "https://localhost:8080/",
          "height": 296
        },
        "id": "eZUuyLejv9IQ",
        "outputId": "a5262d25-3e32-49b6-b802-6dd17f366b67"
      },
      "outputs": [
        {
          "output_type": "execute_result",
          "data": {
            "text/plain": [
              "<matplotlib.axes._subplots.AxesSubplot at 0x7f2d33328b50>"
            ]
          },
          "metadata": {},
          "execution_count": 19
        },
        {
          "output_type": "display_data",
          "data": {
            "text/plain": [
              "<Figure size 432x288 with 1 Axes>"
            ],
            "image/png": "[encoded data removed]"
          },
          "metadata": {
            "needs_background": "light"
          }
        }
      ],
      "source": [
        "# plotting a boxplot of status as x-axis and hoursplay as y-axis\n",
        "\n",
        "sns.boxplot(x='Status', y='Hoursplay', data=data, palette='rainbow')"
      ]
    },
    {
      "cell_type": "markdown",
      "metadata": {
        "id": "oLP2qFAMvcK8"
      },
      "source": [
        "# converting hours to rating"
      ]
    },
    {
      "cell_type": "code",
      "execution_count": 20,
      "metadata": {
        "colab": {
          "base_uri": "https://localhost:8080/",
          "height": 676
        },
        "id": "eiGi1BNMZiT2",
        "outputId": "f90bbfa7-e2ab-4d61-affb-1d03806fb0a0"
      },
      "outputs": [
        {
          "output_type": "execute_result",
          "data": {
            "text/plain": [
              "      User_Id                       games Status  Hoursplay\n",
              "0   151603712  The Elder Scrolls V Skyrim   play      273.0\n",
              "2   151603712                   Fallout 4   play       87.0\n",
              "4   151603712                       Spore   play       14.9\n",
              "6   151603712           Fallout New Vegas   play       12.1\n",
              "8   151603712               Left 4 Dead 2   play        8.9\n",
              "12  151603712               Path of Exile   play        8.1\n",
              "16  151603712                 Left 4 Dead   play        3.3\n",
              "18  151603712             Team Fortress 2   play        2.8\n",
              "20  151603712                 Tomb Raider   play        2.5\n",
              "22  151603712             The Banner Saga   play        2.0\n",
              "66  187131847                      Dota 2   play        2.3\n",
              "68   59945701     Ultra Street Fighter IV   play      238.0\n",
              "72   59945701  The Elder Scrolls V Skyrim   play       58.0\n",
              "74   59945701  Sid Meier's Civilization V   play       22.0\n",
              "76   59945701                  L.A. Noire   play       13.8\n",
              "80   59945701               7 Days to Die   play        7.8\n",
              "84   59945701           FINAL FANTASY VII   play        5.2\n",
              "86   59945701            Orcs Must Die! 2   play        4.8\n",
              "88   59945701               Killing Floor   play        3.4\n",
              "90   59945701           Company of Heroes   play        3.2"
            ],
            "text/html": [
              "\n",
              "  <div id=\"df-8418ab66-cc42-4c89-96b1-1a93fa8f9f7c\">\n",
              "    <div class=\"colab-df-container\">\n",
              "      <div>\n",
              "<style scoped>\n",
              "    .dataframe tbody tr th:only-of-type {\n",
              "        vertical-align: middle;\n",
              "    }\n",
              "\n",
              "    .dataframe tbody tr th {\n",
              "        vertical-align: top;\n",
              "    }\n",
              "\n",
              "    .dataframe thead th {\n",
              "        text-align: right;\n",
              "    }\n",
              "</style>\n",
              "<table border=\"1\" class=\"dataframe\">\n",
              "  <thead>\n",
              "    <tr style=\"text-align: right;\">\n",
              "      <th></th>\n",
              "      <th>User_Id</th>\n",
              "      <th>games</th>\n",
              "      <th>Status</th>\n",
              "      <th>Hoursplay</th>\n",
              "    </tr>\n",
              "  </thead>\n",
              "  <tbody>\n",
              "    <tr>\n",
              "      <th>0</th>\n",
              "      <td>151603712</td>\n",
              "      <td>The Elder Scrolls V Skyrim</td>\n",
              "      <td>play</td>\n",
              "      <td>273.0</td>\n",
              "    </tr>\n",
              "    <tr>\n",
              "      <th>2</th>\n",
              "      <td>151603712</td>\n",
              "      <td>Fallout 4</td>\n",
              "      <td>play</td>\n",
              "      <td>87.0</td>\n",
              "    </tr>\n",
              "    <tr>\n",
              "      <th>4</th>\n",
              "      <td>151603712</td>\n",
              "      <td>Spore</td>\n",
              "      <td>play</td>\n",
              "      <td>14.9</td>\n",
              "    </tr>\n",
              "    <tr>\n",
              "      <th>6</th>\n",
              "      <td>151603712</td>\n",
              "      <td>Fallout New Vegas</td>\n",
              "      <td>play</td>\n",
              "      <td>12.1</td>\n",
              "    </tr>\n",
              "    <tr>\n",
              "      <th>8</th>\n",
              "      <td>151603712</td>\n",
              "      <td>Left 4 Dead 2</td>\n",
              "      <td>play</td>\n",
              "      <td>8.9</td>\n",
              "    </tr>\n",
              "    <tr>\n",
              "      <th>12</th>\n",
              "      <td>151603712</td>\n",
              "      <td>Path of Exile</td>\n",
              "      <td>play</td>\n",
              "      <td>8.1</td>\n",
              "    </tr>\n",
              "    <tr>\n",
              "      <th>16</th>\n",
              "      <td>151603712</td>\n",
              "      <td>Left 4 Dead</td>\n",
              "      <td>play</td>\n",
              "      <td>3.3</td>\n",
              "    </tr>\n",
              "    <tr>\n",
              "      <th>18</th>\n",
              "      <td>151603712</td>\n",
              "      <td>Team Fortress 2</td>\n",
              "      <td>play</td>\n",
              "      <td>2.8</td>\n",
              "    </tr>\n",
              "    <tr>\n",
              "      <th>20</th>\n",
              "      <td>151603712</td>\n",
              "      <td>Tomb Raider</td>\n",
              "      <td>play</td>\n",
              "      <td>2.5</td>\n",
              "    </tr>\n",
              "    <tr>\n",
              "      <th>22</th>\n",
              "      <td>151603712</td>\n",
              "      <td>The Banner Saga</td>\n",
              "      <td>play</td>\n",
              "      <td>2.0</td>\n",
              "    </tr>\n",
              "    <tr>\n",
              "      <th>66</th>\n",
              "      <td>187131847</td>\n",
              "      <td>Dota 2</td>\n",
              "      <td>play</td>\n",
              "      <td>2.3</td>\n",
              "    </tr>\n",
              "    <tr>\n",
              "      <th>68</th>\n",
              "      <td>59945701</td>\n",
              "      <td>Ultra Street Fighter IV</td>\n",
              "      <td>play</td>\n",
              "      <td>238.0</td>\n",
              "    </tr>\n",
              "    <tr>\n",
              "      <th>72</th>\n",
              "      <td>59945701</td>\n",
              "      <td>The Elder Scrolls V Skyrim</td>\n",
              "      <td>play</td>\n",
              "      <td>58.0</td>\n",
              "    </tr>\n",
              "    <tr>\n",
              "      <th>74</th>\n",
              "      <td>59945701</td>\n",
              "      <td>Sid Meier's Civilization V</td>\n",
              "      <td>play</td>\n",
              "      <td>22.0</td>\n",
              "    </tr>\n",
              "    <tr>\n",
              "      <th>76</th>\n",
              "      <td>59945701</td>\n",
              "      <td>L.A. Noire</td>\n",
              "      <td>play</td>\n",
              "      <td>13.8</td>\n",
              "    </tr>\n",
              "    <tr>\n",
              "      <th>80</th>\n",
              "      <td>59945701</td>\n",
              "      <td>7 Days to Die</td>\n",
              "      <td>play</td>\n",
              "      <td>7.8</td>\n",
              "    </tr>\n",
              "    <tr>\n",
              "      <th>84</th>\n",
              "      <td>59945701</td>\n",
              "      <td>FINAL FANTASY VII</td>\n",
              "      <td>play</td>\n",
              "      <td>5.2</td>\n",
              "    </tr>\n",
              "    <tr>\n",
              "      <th>86</th>\n",
              "      <td>59945701</td>\n",
              "      <td>Orcs Must Die! 2</td>\n",
              "      <td>play</td>\n",
              "      <td>4.8</td>\n",
              "    </tr>\n",
              "    <tr>\n",
              "      <th>88</th>\n",
              "      <td>59945701</td>\n",
              "      <td>Killing Floor</td>\n",
              "      <td>play</td>\n",
              "      <td>3.4</td>\n",
              "    </tr>\n",
              "    <tr>\n",
              "      <th>90</th>\n",
              "      <td>59945701</td>\n",
              "      <td>Company of Heroes</td>\n",
              "      <td>play</td>\n",
              "      <td>3.2</td>\n",
              "    </tr>\n",
              "  </tbody>\n",
              "</table>\n",
              "</div>\n",
              "      <button class=\"colab-df-convert\" onclick=\"convertToInteractive('df-8418ab66-cc42-4c89-96b1-1a93fa8f9f7c')\"\n",
              "              title=\"Convert this dataframe to an interactive table.\"\n",
              "              style=\"display:none;\">\n",
              "        \n",
              "  <svg xmlns=\"http://www.w3.org/2000/svg\" height=\"24px\"viewBox=\"0 0 24 24\"\n",
              "       width=\"24px\">\n",
              "    <path d=\"M0 0h24v24H0V0z\" fill=\"none\"/>\n",
              "    <path d=\"M18.56 5.44l.94 2.06.94-2.06 2.06-.94-2.06-.94-.94-2.06-.94 2.06-2.06.94zm-11 1L8.5 8.5l.94-2.06 2.06-.94-2.06-.94L8.5 2.5l-.94 2.06-2.06.94zm10 10l.94 2.06.94-2.06 2.06-.94-2.06-.94-.94-2.06-.94 2.06-2.06.94z\"/><path d=\"M17.41 7.96l-1.37-1.37c-.4-.4-.92-.59-1.43-.59-.52 0-1.04.2-1.43.59L10.3 9.45l-7.72 7.72c-.78.78-.78 2.05 0 2.83L4 21.41c.39.39.9.59 1.41.59.51 0 1.02-.2 1.41-.59l7.78-7.78 2.81-2.81c.8-.78.8-2.07 0-2.86zM5.41 20L4 18.59l7.72-7.72 1.47 1.35L5.41 20z\"/>\n",
              "  </svg>\n",
              "      </button>\n",
              "      \n",
              "  <style>\n",
              "    .colab-df-container {\n",
              "      display:flex;\n",
              "      flex-wrap:wrap;\n",
              "      gap: 12px;\n",
              "    }\n",
              "\n",
              "    .colab-df-convert {\n",
              "      background-color: #E8F0FE;\n",
              "      border: none;\n",
              "      border-radius: 50%;\n",
              "      cursor: pointer;\n",
              "      display: none;\n",
              "      fill: #1967D2;\n",
              "      height: 32px;\n",
              "      padding: 0 0 0 0;\n",
              "      width: 32px;\n",
              "    }\n",
              "\n",
              "    .colab-df-convert:hover {\n",
              "      background-color: #E2EBFA;\n",
              "      box-shadow: 0px 1px 2px rgba(60, 64, 67, 0.3), 0px 1px 3px 1px rgba(60, 64, 67, 0.15);\n",
              "      fill: #174EA6;\n",
              "    }\n",
              "\n",
              "    [theme=dark] .colab-df-convert {\n",
              "      background-color: #3B4455;\n",
              "      fill: #D2E3FC;\n",
              "    }\n",
              "\n",
              "    [theme=dark] .colab-df-convert:hover {\n",
              "      background-color: #434B5C;\n",
              "      box-shadow: 0px 1px 3px 1px rgba(0, 0, 0, 0.15);\n",
              "      filter: drop-shadow(0px 1px 2px rgba(0, 0, 0, 0.3));\n",
              "      fill: #FFFFFF;\n",
              "    }\n",
              "  </style>\n",
              "\n",
              "      <script>\n",
              "        const buttonEl =\n",
              "          document.querySelector('#df-8418ab66-cc42-4c89-96b1-1a93fa8f9f7c button.colab-df-convert');\n",
              "        buttonEl.style.display =\n",
              "          google.colab.kernel.accessAllowed ? 'block' : 'none';\n",
              "\n",
              "        async function convertToInteractive(key) {\n",
              "          const element = document.querySelector('#df-8418ab66-cc42-4c89-96b1-1a93fa8f9f7c');\n",
              "          const dataTable =\n",
              "            await google.colab.kernel.invokeFunction('convertToInteractive',\n",
              "                                                     [key], {});\n",
              "          if (!dataTable) return;\n",
              "\n",
              "          const docLinkHtml = 'Like what you see? Visit the ' +\n",
              "            '<a target=\"_blank\" href=https://colab.research.google.com/notebooks/data_table.ipynb>data table notebook</a>'\n",
              "            + ' to learn more about interactive tables.';\n",
              "          element.innerHTML = '';\n",
              "          dataTable['output_type'] = 'display_data';\n",
              "          await google.colab.output.renderOutput(dataTable, element);\n",
              "          const docLink = document.createElement('div');\n",
              "          docLink.innerHTML = docLinkHtml;\n",
              "          element.appendChild(docLink);\n",
              "        }\n",
              "      </script>\n",
              "    </div>\n",
              "  </div>\n",
              "  "
            ]
          },
          "metadata": {},
          "execution_count": 20
        }
      ],
      "source": [
        "# converting hoursplay into rating\n",
        "\n",
        "data = data[(data['Hoursplay']>=2)& (data['Status']=='play')]\n",
        "data_filtered = data[data.groupby('games').User_Id.transform(len)>=20]\n",
        "data_filtered['games'].nunique()\n",
        "data_filtered.head(20)"
      ]
    },
    {
      "cell_type": "code",
      "source": [
        "data_filtered['User_Id'] = data_filtered['User_Id'].astype(str)\n",
        "averages = data_filtered.groupby(['games'], as_index=False).Hoursplay.mean()\n",
        "averages['avg_Hoursplay']= averages['Hoursplay']\n",
        "averages.drop('Hoursplay', axis=1, inplace =True)\n",
        "\n",
        "final_ratings = pd.merge(data_filtered, averages[['games', 'avg_Hoursplay']], on='games')\n",
        "\n",
        " \n",
        "conditions=[(final_ratings['Hoursplay']>=0.8*final_ratings['avg_Hoursplay']),\n",
        "    (final_ratings['Hoursplay']>=0.6*final_ratings['avg_Hoursplay']) & \n",
        "    (final_ratings['Hoursplay']<0.8*final_ratings['avg_Hoursplay']),\n",
        "    (final_ratings['Hoursplay']>=0.4*final_ratings['avg_Hoursplay'])&\n",
        "     (final_ratings['Hoursplay']<0.6*final_ratings['avg_Hoursplay']),\n",
        "     (final_ratings['Hoursplay']>=0.2*final_ratings['avg_Hoursplay']) &\n",
        "     (final_ratings['Hoursplay']<0.4*final_ratings['avg_Hoursplay']),\n",
        "     final_ratings['Hoursplay']>=0]\n",
        "    \n",
        "\n",
        "\n",
        "values = [5,4,3,2,1]\n",
        "final_ratings['rating'] = np.select(conditions,values)\n",
        "final_ratings"
      ],
      "metadata": {
        "colab": {
          "base_uri": "https://localhost:8080/",
          "height": 528
        },
        "id": "2HAYfNnVypbJ",
        "outputId": "9f5caabc-ed75-4d90-eeb1-df0d92a449a0"
      },
      "execution_count": 21,
      "outputs": [
        {
          "output_type": "stream",
          "name": "stderr",
          "text": [
            "/usr/local/lib/python3.7/dist-packages/ipykernel_launcher.py:1: SettingWithCopyWarning: \n",
            "A value is trying to be set on a copy of a slice from a DataFrame.\n",
            "Try using .loc[row_indexer,col_indexer] = value instead\n",
            "\n",
            "See the caveats in the documentation: https://pandas.pydata.org/pandas-docs/stable/user_guide/indexing.html#returning-a-view-versus-a-copy\n",
            "  \"\"\"Entry point for launching an IPython kernel.\n"
          ]
        },
        {
          "output_type": "execute_result",
          "data": {
            "text/plain": [
              "         User_Id                                    games Status  Hoursplay  \\\n",
              "0      151603712               The Elder Scrolls V Skyrim   play      273.0   \n",
              "1       59945701               The Elder Scrolls V Skyrim   play       58.0   \n",
              "2       92107940               The Elder Scrolls V Skyrim   play      110.0   \n",
              "3      250006052               The Elder Scrolls V Skyrim   play      465.0   \n",
              "4       11373749               The Elder Scrolls V Skyrim   play      220.0   \n",
              "...          ...                                      ...    ...        ...   \n",
              "36415   51822361  Warhammer 40,000 Dawn of War  Soulstorm   play       23.0   \n",
              "36416   38317154  Warhammer 40,000 Dawn of War  Soulstorm   play        5.5   \n",
              "36417   36404933  Warhammer 40,000 Dawn of War  Soulstorm   play        5.8   \n",
              "36418   87201181  Warhammer 40,000 Dawn of War  Soulstorm   play       24.0   \n",
              "36419   34901647  Warhammer 40,000 Dawn of War  Soulstorm   play       15.4   \n",
              "\n",
              "       avg_Hoursplay  rating  \n",
              "0         115.351792       5  \n",
              "1         115.351792       3  \n",
              "2         115.351792       5  \n",
              "3         115.351792       5  \n",
              "4         115.351792       5  \n",
              "...              ...     ...  \n",
              "36415      14.109091       5  \n",
              "36416      14.109091       2  \n",
              "36417      14.109091       3  \n",
              "36418      14.109091       5  \n",
              "36419      14.109091       5  \n",
              "\n",
              "[36420 rows x 6 columns]"
            ],
            "text/html": [
              "\n",
              "  <div id=\"df-b74d5a01-e498-4417-accc-bbabf0ec2ad1\">\n",
              "    <div class=\"colab-df-container\">\n",
              "      <div>\n",
              "<style scoped>\n",
              "    .dataframe tbody tr th:only-of-type {\n",
              "        vertical-align: middle;\n",
              "    }\n",
              "\n",
              "    .dataframe tbody tr th {\n",
              "        vertical-align: top;\n",
              "    }\n",
              "\n",
              "    .dataframe thead th {\n",
              "        text-align: right;\n",
              "    }\n",
              "</style>\n",
              "<table border=\"1\" class=\"dataframe\">\n",
              "  <thead>\n",
              "    <tr style=\"text-align: right;\">\n",
              "      <th></th>\n",
              "      <th>User_Id</th>\n",
              "      <th>games</th>\n",
              "      <th>Status</th>\n",
              "      <th>Hoursplay</th>\n",
              "      <th>avg_Hoursplay</th>\n",
              "      <th>rating</th>\n",
              "    </tr>\n",
              "  </thead>\n",
              "  <tbody>\n",
              "    <tr>\n",
              "      <th>0</th>\n",
              "      <td>151603712</td>\n",
              "      <td>The Elder Scrolls V Skyrim</td>\n",
              "      <td>play</td>\n",
              "      <td>273.0</td>\n",
              "      <td>115.351792</td>\n",
              "      <td>5</td>\n",
              "    </tr>\n",
              "    <tr>\n",
              "      <th>1</th>\n",
              "      <td>59945701</td>\n",
              "      <td>The Elder Scrolls V Skyrim</td>\n",
              "      <td>play</td>\n",
              "      <td>58.0</td>\n",
              "      <td>115.351792</td>\n",
              "      <td>3</td>\n",
              "    </tr>\n",
              "    <tr>\n",
              "      <th>2</th>\n",
              "      <td>92107940</td>\n",
              "      <td>The Elder Scrolls V Skyrim</td>\n",
              "      <td>play</td>\n",
              "      <td>110.0</td>\n",
              "      <td>115.351792</td>\n",
              "      <td>5</td>\n",
              "    </tr>\n",
              "    <tr>\n",
              "      <th>3</th>\n",
              "      <td>250006052</td>\n",
              "      <td>The Elder Scrolls V Skyrim</td>\n",
              "      <td>play</td>\n",
              "      <td>465.0</td>\n",
              "      <td>115.351792</td>\n",
              "      <td>5</td>\n",
              "    </tr>\n",
              "    <tr>\n",
              "      <th>4</th>\n",
              "      <td>11373749</td>\n",
              "      <td>The Elder Scrolls V Skyrim</td>\n",
              "      <td>play</td>\n",
              "      <td>220.0</td>\n",
              "      <td>115.351792</td>\n",
              "      <td>5</td>\n",
              "    </tr>\n",
              "    <tr>\n",
              "      <th>...</th>\n",
              "      <td>...</td>\n",
              "      <td>...</td>\n",
              "      <td>...</td>\n",
              "      <td>...</td>\n",
              "      <td>...</td>\n",
              "      <td>...</td>\n",
              "    </tr>\n",
              "    <tr>\n",
              "      <th>36415</th>\n",
              "      <td>51822361</td>\n",
              "      <td>Warhammer 40,000 Dawn of War  Soulstorm</td>\n",
              "      <td>play</td>\n",
              "      <td>23.0</td>\n",
              "      <td>14.109091</td>\n",
              "      <td>5</td>\n",
              "    </tr>\n",
              "    <tr>\n",
              "      <th>36416</th>\n",
              "      <td>38317154</td>\n",
              "      <td>Warhammer 40,000 Dawn of War  Soulstorm</td>\n",
              "      <td>play</td>\n",
              "      <td>5.5</td>\n",
              "      <td>14.109091</td>\n",
              "      <td>2</td>\n",
              "    </tr>\n",
              "    <tr>\n",
              "      <th>36417</th>\n",
              "      <td>36404933</td>\n",
              "      <td>Warhammer 40,000 Dawn of War  Soulstorm</td>\n",
              "      <td>play</td>\n",
              "      <td>5.8</td>\n",
              "      <td>14.109091</td>\n",
              "      <td>3</td>\n",
              "    </tr>\n",
              "    <tr>\n",
              "      <th>36418</th>\n",
              "      <td>87201181</td>\n",
              "      <td>Warhammer 40,000 Dawn of War  Soulstorm</td>\n",
              "      <td>play</td>\n",
              "      <td>24.0</td>\n",
              "      <td>14.109091</td>\n",
              "      <td>5</td>\n",
              "    </tr>\n",
              "    <tr>\n",
              "      <th>36419</th>\n",
              "      <td>34901647</td>\n",
              "      <td>Warhammer 40,000 Dawn of War  Soulstorm</td>\n",
              "      <td>play</td>\n",
              "      <td>15.4</td>\n",
              "      <td>14.109091</td>\n",
              "      <td>5</td>\n",
              "    </tr>\n",
              "  </tbody>\n",
              "</table>\n",
              "<p>36420 rows × 6 columns</p>\n",
              "</div>\n",
              "      <button class=\"colab-df-convert\" onclick=\"convertToInteractive('df-b74d5a01-e498-4417-accc-bbabf0ec2ad1')\"\n",
              "              title=\"Convert this dataframe to an interactive table.\"\n",
              "              style=\"display:none;\">\n",
              "        \n",
              "  <svg xmlns=\"http://www.w3.org/2000/svg\" height=\"24px\"viewBox=\"0 0 24 24\"\n",
              "       width=\"24px\">\n",
              "    <path d=\"M0 0h24v24H0V0z\" fill=\"none\"/>\n",
              "    <path d=\"M18.56 5.44l.94 2.06.94-2.06 2.06-.94-2.06-.94-.94-2.06-.94 2.06-2.06.94zm-11 1L8.5 8.5l.94-2.06 2.06-.94-2.06-.94L8.5 2.5l-.94 2.06-2.06.94zm10 10l.94 2.06.94-2.06 2.06-.94-2.06-.94-.94-2.06-.94 2.06-2.06.94z\"/><path d=\"M17.41 7.96l-1.37-1.37c-.4-.4-.92-.59-1.43-.59-.52 0-1.04.2-1.43.59L10.3 9.45l-7.72 7.72c-.78.78-.78 2.05 0 2.83L4 21.41c.39.39.9.59 1.41.59.51 0 1.02-.2 1.41-.59l7.78-7.78 2.81-2.81c.8-.78.8-2.07 0-2.86zM5.41 20L4 18.59l7.72-7.72 1.47 1.35L5.41 20z\"/>\n",
              "  </svg>\n",
              "      </button>\n",
              "      \n",
              "  <style>\n",
              "    .colab-df-container {\n",
              "      display:flex;\n",
              "      flex-wrap:wrap;\n",
              "      gap: 12px;\n",
              "    }\n",
              "\n",
              "    .colab-df-convert {\n",
              "      background-color: #E8F0FE;\n",
              "      border: none;\n",
              "      border-radius: 50%;\n",
              "      cursor: pointer;\n",
              "      display: none;\n",
              "      fill: #1967D2;\n",
              "      height: 32px;\n",
              "      padding: 0 0 0 0;\n",
              "      width: 32px;\n",
              "    }\n",
              "\n",
              "    .colab-df-convert:hover {\n",
              "      background-color: #E2EBFA;\n",
              "      box-shadow: 0px 1px 2px rgba(60, 64, 67, 0.3), 0px 1px 3px 1px rgba(60, 64, 67, 0.15);\n",
              "      fill: #174EA6;\n",
              "    }\n",
              "\n",
              "    [theme=dark] .colab-df-convert {\n",
              "      background-color: #3B4455;\n",
              "      fill: #D2E3FC;\n",
              "    }\n",
              "\n",
              "    [theme=dark] .colab-df-convert:hover {\n",
              "      background-color: #434B5C;\n",
              "      box-shadow: 0px 1px 3px 1px rgba(0, 0, 0, 0.15);\n",
              "      filter: drop-shadow(0px 1px 2px rgba(0, 0, 0, 0.3));\n",
              "      fill: #FFFFFF;\n",
              "    }\n",
              "  </style>\n",
              "\n",
              "      <script>\n",
              "        const buttonEl =\n",
              "          document.querySelector('#df-b74d5a01-e498-4417-accc-bbabf0ec2ad1 button.colab-df-convert');\n",
              "        buttonEl.style.display =\n",
              "          google.colab.kernel.accessAllowed ? 'block' : 'none';\n",
              "\n",
              "        async function convertToInteractive(key) {\n",
              "          const element = document.querySelector('#df-b74d5a01-e498-4417-accc-bbabf0ec2ad1');\n",
              "          const dataTable =\n",
              "            await google.colab.kernel.invokeFunction('convertToInteractive',\n",
              "                                                     [key], {});\n",
              "          if (!dataTable) return;\n",
              "\n",
              "          const docLinkHtml = 'Like what you see? Visit the ' +\n",
              "            '<a target=\"_blank\" href=https://colab.research.google.com/notebooks/data_table.ipynb>data table notebook</a>'\n",
              "            + ' to learn more about interactive tables.';\n",
              "          element.innerHTML = '';\n",
              "          dataTable['output_type'] = 'display_data';\n",
              "          await google.colab.output.renderOutput(dataTable, element);\n",
              "          const docLink = document.createElement('div');\n",
              "          docLink.innerHTML = docLinkHtml;\n",
              "          element.appendChild(docLink);\n",
              "        }\n",
              "      </script>\n",
              "    </div>\n",
              "  </div>\n",
              "  "
            ]
          },
          "metadata": {},
          "execution_count": 21
        }
      ]
    },
    {
      "cell_type": "code",
      "execution_count": 22,
      "metadata": {
        "colab": {
          "base_uri": "https://localhost:8080/",
          "height": 424
        },
        "id": "XXBW4xzzZiPv",
        "outputId": "f91bda67-d59f-4cf9-9190-a7d99e867aa2"
      },
      "outputs": [
        {
          "output_type": "execute_result",
          "data": {
            "text/plain": [
              "         User_Id                                    games  rating\n",
              "0      151603712               The Elder Scrolls V Skyrim       5\n",
              "1       59945701               The Elder Scrolls V Skyrim       3\n",
              "2       92107940               The Elder Scrolls V Skyrim       5\n",
              "3      250006052               The Elder Scrolls V Skyrim       5\n",
              "4       11373749               The Elder Scrolls V Skyrim       5\n",
              "...          ...                                      ...     ...\n",
              "36415   51822361  Warhammer 40,000 Dawn of War  Soulstorm       5\n",
              "36416   38317154  Warhammer 40,000 Dawn of War  Soulstorm       2\n",
              "36417   36404933  Warhammer 40,000 Dawn of War  Soulstorm       3\n",
              "36418   87201181  Warhammer 40,000 Dawn of War  Soulstorm       5\n",
              "36419   34901647  Warhammer 40,000 Dawn of War  Soulstorm       5\n",
              "\n",
              "[36420 rows x 3 columns]"
            ],
            "text/html": [
              "\n",
              "  <div id=\"df-7ff0bf4c-aa8b-4079-95df-9bfb27ef9590\">\n",
              "    <div class=\"colab-df-container\">\n",
              "      <div>\n",
              "<style scoped>\n",
              "    .dataframe tbody tr th:only-of-type {\n",
              "        vertical-align: middle;\n",
              "    }\n",
              "\n",
              "    .dataframe tbody tr th {\n",
              "        vertical-align: top;\n",
              "    }\n",
              "\n",
              "    .dataframe thead th {\n",
              "        text-align: right;\n",
              "    }\n",
              "</style>\n",
              "<table border=\"1\" class=\"dataframe\">\n",
              "  <thead>\n",
              "    <tr style=\"text-align: right;\">\n",
              "      <th></th>\n",
              "      <th>User_Id</th>\n",
              "      <th>games</th>\n",
              "      <th>rating</th>\n",
              "    </tr>\n",
              "  </thead>\n",
              "  <tbody>\n",
              "    <tr>\n",
              "      <th>0</th>\n",
              "      <td>151603712</td>\n",
              "      <td>The Elder Scrolls V Skyrim</td>\n",
              "      <td>5</td>\n",
              "    </tr>\n",
              "    <tr>\n",
              "      <th>1</th>\n",
              "      <td>59945701</td>\n",
              "      <td>The Elder Scrolls V Skyrim</td>\n",
              "      <td>3</td>\n",
              "    </tr>\n",
              "    <tr>\n",
              "      <th>2</th>\n",
              "      <td>92107940</td>\n",
              "      <td>The Elder Scrolls V Skyrim</td>\n",
              "      <td>5</td>\n",
              "    </tr>\n",
              "    <tr>\n",
              "      <th>3</th>\n",
              "      <td>250006052</td>\n",
              "      <td>The Elder Scrolls V Skyrim</td>\n",
              "      <td>5</td>\n",
              "    </tr>\n",
              "    <tr>\n",
              "      <th>4</th>\n",
              "      <td>11373749</td>\n",
              "      <td>The Elder Scrolls V Skyrim</td>\n",
              "      <td>5</td>\n",
              "    </tr>\n",
              "    <tr>\n",
              "      <th>...</th>\n",
              "      <td>...</td>\n",
              "      <td>...</td>\n",
              "      <td>...</td>\n",
              "    </tr>\n",
              "    <tr>\n",
              "      <th>36415</th>\n",
              "      <td>51822361</td>\n",
              "      <td>Warhammer 40,000 Dawn of War  Soulstorm</td>\n",
              "      <td>5</td>\n",
              "    </tr>\n",
              "    <tr>\n",
              "      <th>36416</th>\n",
              "      <td>38317154</td>\n",
              "      <td>Warhammer 40,000 Dawn of War  Soulstorm</td>\n",
              "      <td>2</td>\n",
              "    </tr>\n",
              "    <tr>\n",
              "      <th>36417</th>\n",
              "      <td>36404933</td>\n",
              "      <td>Warhammer 40,000 Dawn of War  Soulstorm</td>\n",
              "      <td>3</td>\n",
              "    </tr>\n",
              "    <tr>\n",
              "      <th>36418</th>\n",
              "      <td>87201181</td>\n",
              "      <td>Warhammer 40,000 Dawn of War  Soulstorm</td>\n",
              "      <td>5</td>\n",
              "    </tr>\n",
              "    <tr>\n",
              "      <th>36419</th>\n",
              "      <td>34901647</td>\n",
              "      <td>Warhammer 40,000 Dawn of War  Soulstorm</td>\n",
              "      <td>5</td>\n",
              "    </tr>\n",
              "  </tbody>\n",
              "</table>\n",
              "<p>36420 rows × 3 columns</p>\n",
              "</div>\n",
              "      <button class=\"colab-df-convert\" onclick=\"convertToInteractive('df-7ff0bf4c-aa8b-4079-95df-9bfb27ef9590')\"\n",
              "              title=\"Convert this dataframe to an interactive table.\"\n",
              "              style=\"display:none;\">\n",
              "        \n",
              "  <svg xmlns=\"http://www.w3.org/2000/svg\" height=\"24px\"viewBox=\"0 0 24 24\"\n",
              "       width=\"24px\">\n",
              "    <path d=\"M0 0h24v24H0V0z\" fill=\"none\"/>\n",
              "    <path d=\"M18.56 5.44l.94 2.06.94-2.06 2.06-.94-2.06-.94-.94-2.06-.94 2.06-2.06.94zm-11 1L8.5 8.5l.94-2.06 2.06-.94-2.06-.94L8.5 2.5l-.94 2.06-2.06.94zm10 10l.94 2.06.94-2.06 2.06-.94-2.06-.94-.94-2.06-.94 2.06-2.06.94z\"/><path d=\"M17.41 7.96l-1.37-1.37c-.4-.4-.92-.59-1.43-.59-.52 0-1.04.2-1.43.59L10.3 9.45l-7.72 7.72c-.78.78-.78 2.05 0 2.83L4 21.41c.39.39.9.59 1.41.59.51 0 1.02-.2 1.41-.59l7.78-7.78 2.81-2.81c.8-.78.8-2.07 0-2.86zM5.41 20L4 18.59l7.72-7.72 1.47 1.35L5.41 20z\"/>\n",
              "  </svg>\n",
              "      </button>\n",
              "      \n",
              "  <style>\n",
              "    .colab-df-container {\n",
              "      display:flex;\n",
              "      flex-wrap:wrap;\n",
              "      gap: 12px;\n",
              "    }\n",
              "\n",
              "    .colab-df-convert {\n",
              "      background-color: #E8F0FE;\n",
              "      border: none;\n",
              "      border-radius: 50%;\n",
              "      cursor: pointer;\n",
              "      display: none;\n",
              "      fill: #1967D2;\n",
              "      height: 32px;\n",
              "      padding: 0 0 0 0;\n",
              "      width: 32px;\n",
              "    }\n",
              "\n",
              "    .colab-df-convert:hover {\n",
              "      background-color: #E2EBFA;\n",
              "      box-shadow: 0px 1px 2px rgba(60, 64, 67, 0.3), 0px 1px 3px 1px rgba(60, 64, 67, 0.15);\n",
              "      fill: #174EA6;\n",
              "    }\n",
              "\n",
              "    [theme=dark] .colab-df-convert {\n",
              "      background-color: #3B4455;\n",
              "      fill: #D2E3FC;\n",
              "    }\n",
              "\n",
              "    [theme=dark] .colab-df-convert:hover {\n",
              "      background-color: #434B5C;\n",
              "      box-shadow: 0px 1px 3px 1px rgba(0, 0, 0, 0.15);\n",
              "      filter: drop-shadow(0px 1px 2px rgba(0, 0, 0, 0.3));\n",
              "      fill: #FFFFFF;\n",
              "    }\n",
              "  </style>\n",
              "\n",
              "      <script>\n",
              "        const buttonEl =\n",
              "          document.querySelector('#df-7ff0bf4c-aa8b-4079-95df-9bfb27ef9590 button.colab-df-convert');\n",
              "        buttonEl.style.display =\n",
              "          google.colab.kernel.accessAllowed ? 'block' : 'none';\n",
              "\n",
              "        async function convertToInteractive(key) {\n",
              "          const element = document.querySelector('#df-7ff0bf4c-aa8b-4079-95df-9bfb27ef9590');\n",
              "          const dataTable =\n",
              "            await google.colab.kernel.invokeFunction('convertToInteractive',\n",
              "                                                     [key], {});\n",
              "          if (!dataTable) return;\n",
              "\n",
              "          const docLinkHtml = 'Like what you see? Visit the ' +\n",
              "            '<a target=\"_blank\" href=https://colab.research.google.com/notebooks/data_table.ipynb>data table notebook</a>'\n",
              "            + ' to learn more about interactive tables.';\n",
              "          element.innerHTML = '';\n",
              "          dataTable['output_type'] = 'display_data';\n",
              "          await google.colab.output.renderOutput(dataTable, element);\n",
              "          const docLink = document.createElement('div');\n",
              "          docLink.innerHTML = docLinkHtml;\n",
              "          element.appendChild(docLink);\n",
              "        }\n",
              "      </script>\n",
              "    </div>\n",
              "  </div>\n",
              "  "
            ]
          },
          "metadata": {},
          "execution_count": 22
        }
      ],
      "source": [
        "# keeping only important columns( user_id, games,rating ) and dropping everthing else \n",
        "\n",
        "final_ratings = final_ratings.drop(columns=['Status', 'Hoursplay','avg_Hoursplay'])\n",
        "final_ratings"
      ]
    },
    {
      "cell_type": "markdown",
      "metadata": {
        "id": "fUuhTgxTvWAL"
      },
      "source": [
        "# MEMORY BASED COLLABORATIVE FILTERING\n",
        "\n",
        "Memory-based algorithms approach the collaborative filtering problem by using the entire database.It tries to find users that are similar to the active user (i.e. the users we want to make predictions for), and uses their preferences to predict ratings for the active user."
      ]
    },
    {
      "cell_type": "code",
      "execution_count": 23,
      "metadata": {
        "id": "Ldaj40pJc5Lr"
      },
      "outputs": [],
      "source": [
        "#importing pairwise_distances, cosine, correlation\n",
        "\n",
        "from sklearn.metrics.pairwise import pairwise_distances\n",
        "from scipy.spatial.distance import cosine, correlation"
      ]
    },
    {
      "cell_type": "code",
      "execution_count": 24,
      "metadata": {
        "id": "J8C5ykDCUbQe"
      },
      "outputs": [],
      "source": [
        "# creating pivot table containing user_id as index, games as columns, ratings as values\n",
        "\n",
        "piv = final_ratings.pivot_table(index = ['User_Id'], columns=['games'], values='rating')"
      ]
    },
    {
      "cell_type": "code",
      "execution_count": 25,
      "metadata": {
        "colab": {
          "base_uri": "https://localhost:8080/",
          "height": 435
        },
        "id": "Lbgw7l06UbOx",
        "outputId": "86b9073a-a661-42c3-d8da-167d1d3c10ba"
      },
      "outputs": [
        {
          "output_type": "stream",
          "name": "stdout",
          "text": [
            "(8309, 427)\n"
          ]
        },
        {
          "output_type": "execute_result",
          "data": {
            "text/plain": [
              "games      7 Days to Die  APB Reloaded  ARK Survival Evolved  Ace of Spades  \\\n",
              "User_Id                                                                       \n",
              "100053304            NaN           NaN                   NaN            NaN   \n",
              "100057229            NaN           NaN                   NaN            NaN   \n",
              "100070732            NaN           NaN                   NaN            NaN   \n",
              "100096071            NaN           NaN                   NaN            NaN   \n",
              "100168166            NaN           NaN                   NaN            NaN   \n",
              "\n",
              "games      AdVenture Capitalist  Aftermath  Age of Chivalry  \\\n",
              "User_Id                                                       \n",
              "100053304                   NaN        NaN              NaN   \n",
              "100057229                   NaN        NaN              NaN   \n",
              "100070732                   NaN        NaN              NaN   \n",
              "100096071                   NaN        NaN              NaN   \n",
              "100168166                   NaN        NaN              NaN   \n",
              "\n",
              "games      Age of Empires II HD Edition  \\\n",
              "User_Id                                   \n",
              "100053304                           NaN   \n",
              "100057229                           NaN   \n",
              "100070732                           NaN   \n",
              "100096071                           NaN   \n",
              "100168166                           NaN   \n",
              "\n",
              "games      Age of Empires III Complete Collection  \\\n",
              "User_Id                                             \n",
              "100053304                                     NaN   \n",
              "100057229                                     NaN   \n",
              "100070732                                     NaN   \n",
              "100096071                                     NaN   \n",
              "100168166                                     NaN   \n",
              "\n",
              "games      Age of Mythology Extended Edition  ...  \\\n",
              "User_Id                                       ...   \n",
              "100053304                                NaN  ...   \n",
              "100057229                                NaN  ...   \n",
              "100070732                                NaN  ...   \n",
              "100096071                                NaN  ...   \n",
              "100168166                                NaN  ...   \n",
              "\n",
              "games      Warhammer 40,000 Dawn of War II - Chaos Rising  \\\n",
              "User_Id                                                     \n",
              "100053304                                             NaN   \n",
              "100057229                                             NaN   \n",
              "100070732                                             NaN   \n",
              "100096071                                             NaN   \n",
              "100168166                                             NaN   \n",
              "\n",
              "games      Warhammer 40,000 Space Marine  Wasteland 2  Watch_Dogs  \\\n",
              "User_Id                                                             \n",
              "100053304                            NaN          NaN         NaN   \n",
              "100057229                            NaN          NaN         NaN   \n",
              "100070732                            NaN          NaN         NaN   \n",
              "100096071                            NaN          NaN         NaN   \n",
              "100168166                            NaN          NaN         NaN   \n",
              "\n",
              "games      Wolfenstein The New Order  Worms Reloaded  Worms Revolution  \\\n",
              "User_Id                                                                  \n",
              "100053304                        NaN             NaN               NaN   \n",
              "100057229                        NaN             NaN               NaN   \n",
              "100070732                        NaN             NaN               NaN   \n",
              "100096071                        NaN             NaN               NaN   \n",
              "100168166                        NaN             NaN               NaN   \n",
              "\n",
              "games      XCOM Enemy Unknown  Zombie Panic Source  theHunter  \n",
              "User_Id                                                        \n",
              "100053304                 NaN                  NaN        NaN  \n",
              "100057229                 NaN                  NaN        NaN  \n",
              "100070732                 NaN                  NaN        NaN  \n",
              "100096071                 NaN                  NaN        NaN  \n",
              "100168166                 NaN                  NaN        NaN  \n",
              "\n",
              "[5 rows x 427 columns]"
            ],
            "text/html": [
              "\n",
              "  <div id=\"df-1b82f313-6508-4256-b0de-36a1bf5b08f3\">\n",
              "    <div class=\"colab-df-container\">\n",
              "      <div>\n",
              "<style scoped>\n",
              "    .dataframe tbody tr th:only-of-type {\n",
              "        vertical-align: middle;\n",
              "    }\n",
              "\n",
              "    .dataframe tbody tr th {\n",
              "        vertical-align: top;\n",
              "    }\n",
              "\n",
              "    .dataframe thead th {\n",
              "        text-align: right;\n",
              "    }\n",
              "</style>\n",
              "<table border=\"1\" class=\"dataframe\">\n",
              "  <thead>\n",
              "    <tr style=\"text-align: right;\">\n",
              "      <th>games</th>\n",
              "      <th>7 Days to Die</th>\n",
              "      <th>APB Reloaded</th>\n",
              "      <th>ARK Survival Evolved</th>\n",
              "      <th>Ace of Spades</th>\n",
              "      <th>AdVenture Capitalist</th>\n",
              "      <th>Aftermath</th>\n",
              "      <th>Age of Chivalry</th>\n",
              "      <th>Age of Empires II HD Edition</th>\n",
              "      <th>Age of Empires III Complete Collection</th>\n",
              "      <th>Age of Mythology Extended Edition</th>\n",
              "      <th>...</th>\n",
              "      <th>Warhammer 40,000 Dawn of War II - Chaos Rising</th>\n",
              "      <th>Warhammer 40,000 Space Marine</th>\n",
              "      <th>Wasteland 2</th>\n",
              "      <th>Watch_Dogs</th>\n",
              "      <th>Wolfenstein The New Order</th>\n",
              "      <th>Worms Reloaded</th>\n",
              "      <th>Worms Revolution</th>\n",
              "      <th>XCOM Enemy Unknown</th>\n",
              "      <th>Zombie Panic Source</th>\n",
              "      <th>theHunter</th>\n",
              "    </tr>\n",
              "    <tr>\n",
              "      <th>User_Id</th>\n",
              "      <th></th>\n",
              "      <th></th>\n",
              "      <th></th>\n",
              "      <th></th>\n",
              "      <th></th>\n",
              "      <th></th>\n",
              "      <th></th>\n",
              "      <th></th>\n",
              "      <th></th>\n",
              "      <th></th>\n",
              "      <th></th>\n",
              "      <th></th>\n",
              "      <th></th>\n",
              "      <th></th>\n",
              "      <th></th>\n",
              "      <th></th>\n",
              "      <th></th>\n",
              "      <th></th>\n",
              "      <th></th>\n",
              "      <th></th>\n",
              "      <th></th>\n",
              "    </tr>\n",
              "  </thead>\n",
              "  <tbody>\n",
              "    <tr>\n",
              "      <th>100053304</th>\n",
              "      <td>NaN</td>\n",
              "      <td>NaN</td>\n",
              "      <td>NaN</td>\n",
              "      <td>NaN</td>\n",
              "      <td>NaN</td>\n",
              "      <td>NaN</td>\n",
              "      <td>NaN</td>\n",
              "      <td>NaN</td>\n",
              "      <td>NaN</td>\n",
              "      <td>NaN</td>\n",
              "      <td>...</td>\n",
              "      <td>NaN</td>\n",
              "      <td>NaN</td>\n",
              "      <td>NaN</td>\n",
              "      <td>NaN</td>\n",
              "      <td>NaN</td>\n",
              "      <td>NaN</td>\n",
              "      <td>NaN</td>\n",
              "      <td>NaN</td>\n",
              "      <td>NaN</td>\n",
              "      <td>NaN</td>\n",
              "    </tr>\n",
              "    <tr>\n",
              "      <th>100057229</th>\n",
              "      <td>NaN</td>\n",
              "      <td>NaN</td>\n",
              "      <td>NaN</td>\n",
              "      <td>NaN</td>\n",
              "      <td>NaN</td>\n",
              "      <td>NaN</td>\n",
              "      <td>NaN</td>\n",
              "      <td>NaN</td>\n",
              "      <td>NaN</td>\n",
              "      <td>NaN</td>\n",
              "      <td>...</td>\n",
              "      <td>NaN</td>\n",
              "      <td>NaN</td>\n",
              "      <td>NaN</td>\n",
              "      <td>NaN</td>\n",
              "      <td>NaN</td>\n",
              "      <td>NaN</td>\n",
              "      <td>NaN</td>\n",
              "      <td>NaN</td>\n",
              "      <td>NaN</td>\n",
              "      <td>NaN</td>\n",
              "    </tr>\n",
              "    <tr>\n",
              "      <th>100070732</th>\n",
              "      <td>NaN</td>\n",
              "      <td>NaN</td>\n",
              "      <td>NaN</td>\n",
              "      <td>NaN</td>\n",
              "      <td>NaN</td>\n",
              "      <td>NaN</td>\n",
              "      <td>NaN</td>\n",
              "      <td>NaN</td>\n",
              "      <td>NaN</td>\n",
              "      <td>NaN</td>\n",
              "      <td>...</td>\n",
              "      <td>NaN</td>\n",
              "      <td>NaN</td>\n",
              "      <td>NaN</td>\n",
              "      <td>NaN</td>\n",
              "      <td>NaN</td>\n",
              "      <td>NaN</td>\n",
              "      <td>NaN</td>\n",
              "      <td>NaN</td>\n",
              "      <td>NaN</td>\n",
              "      <td>NaN</td>\n",
              "    </tr>\n",
              "    <tr>\n",
              "      <th>100096071</th>\n",
              "      <td>NaN</td>\n",
              "      <td>NaN</td>\n",
              "      <td>NaN</td>\n",
              "      <td>NaN</td>\n",
              "      <td>NaN</td>\n",
              "      <td>NaN</td>\n",
              "      <td>NaN</td>\n",
              "      <td>NaN</td>\n",
              "      <td>NaN</td>\n",
              "      <td>NaN</td>\n",
              "      <td>...</td>\n",
              "      <td>NaN</td>\n",
              "      <td>NaN</td>\n",
              "      <td>NaN</td>\n",
              "      <td>NaN</td>\n",
              "      <td>NaN</td>\n",
              "      <td>NaN</td>\n",
              "      <td>NaN</td>\n",
              "      <td>NaN</td>\n",
              "      <td>NaN</td>\n",
              "      <td>NaN</td>\n",
              "    </tr>\n",
              "    <tr>\n",
              "      <th>100168166</th>\n",
              "      <td>NaN</td>\n",
              "      <td>NaN</td>\n",
              "      <td>NaN</td>\n",
              "      <td>NaN</td>\n",
              "      <td>NaN</td>\n",
              "      <td>NaN</td>\n",
              "      <td>NaN</td>\n",
              "      <td>NaN</td>\n",
              "      <td>NaN</td>\n",
              "      <td>NaN</td>\n",
              "      <td>...</td>\n",
              "      <td>NaN</td>\n",
              "      <td>NaN</td>\n",
              "      <td>NaN</td>\n",
              "      <td>NaN</td>\n",
              "      <td>NaN</td>\n",
              "      <td>NaN</td>\n",
              "      <td>NaN</td>\n",
              "      <td>NaN</td>\n",
              "      <td>NaN</td>\n",
              "      <td>NaN</td>\n",
              "    </tr>\n",
              "  </tbody>\n",
              "</table>\n",
              "<p>5 rows × 427 columns</p>\n",
              "</div>\n",
              "      <button class=\"colab-df-convert\" onclick=\"convertToInteractive('df-1b82f313-6508-4256-b0de-36a1bf5b08f3')\"\n",
              "              title=\"Convert this dataframe to an interactive table.\"\n",
              "              style=\"display:none;\">\n",
              "        \n",
              "  <svg xmlns=\"http://www.w3.org/2000/svg\" height=\"24px\"viewBox=\"0 0 24 24\"\n",
              "       width=\"24px\">\n",
              "    <path d=\"M0 0h24v24H0V0z\" fill=\"none\"/>\n",
              "    <path d=\"M18.56 5.44l.94 2.06.94-2.06 2.06-.94-2.06-.94-.94-2.06-.94 2.06-2.06.94zm-11 1L8.5 8.5l.94-2.06 2.06-.94-2.06-.94L8.5 2.5l-.94 2.06-2.06.94zm10 10l.94 2.06.94-2.06 2.06-.94-2.06-.94-.94-2.06-.94 2.06-2.06.94z\"/><path d=\"M17.41 7.96l-1.37-1.37c-.4-.4-.92-.59-1.43-.59-.52 0-1.04.2-1.43.59L10.3 9.45l-7.72 7.72c-.78.78-.78 2.05 0 2.83L4 21.41c.39.39.9.59 1.41.59.51 0 1.02-.2 1.41-.59l7.78-7.78 2.81-2.81c.8-.78.8-2.07 0-2.86zM5.41 20L4 18.59l7.72-7.72 1.47 1.35L5.41 20z\"/>\n",
              "  </svg>\n",
              "      </button>\n",
              "      \n",
              "  <style>\n",
              "    .colab-df-container {\n",
              "      display:flex;\n",
              "      flex-wrap:wrap;\n",
              "      gap: 12px;\n",
              "    }\n",
              "\n",
              "    .colab-df-convert {\n",
              "      background-color: #E8F0FE;\n",
              "      border: none;\n",
              "      border-radius: 50%;\n",
              "      cursor: pointer;\n",
              "      display: none;\n",
              "      fill: #1967D2;\n",
              "      height: 32px;\n",
              "      padding: 0 0 0 0;\n",
              "      width: 32px;\n",
              "    }\n",
              "\n",
              "    .colab-df-convert:hover {\n",
              "      background-color: #E2EBFA;\n",
              "      box-shadow: 0px 1px 2px rgba(60, 64, 67, 0.3), 0px 1px 3px 1px rgba(60, 64, 67, 0.15);\n",
              "      fill: #174EA6;\n",
              "    }\n",
              "\n",
              "    [theme=dark] .colab-df-convert {\n",
              "      background-color: #3B4455;\n",
              "      fill: #D2E3FC;\n",
              "    }\n",
              "\n",
              "    [theme=dark] .colab-df-convert:hover {\n",
              "      background-color: #434B5C;\n",
              "      box-shadow: 0px 1px 3px 1px rgba(0, 0, 0, 0.15);\n",
              "      filter: drop-shadow(0px 1px 2px rgba(0, 0, 0, 0.3));\n",
              "      fill: #FFFFFF;\n",
              "    }\n",
              "  </style>\n",
              "\n",
              "      <script>\n",
              "        const buttonEl =\n",
              "          document.querySelector('#df-1b82f313-6508-4256-b0de-36a1bf5b08f3 button.colab-df-convert');\n",
              "        buttonEl.style.display =\n",
              "          google.colab.kernel.accessAllowed ? 'block' : 'none';\n",
              "\n",
              "        async function convertToInteractive(key) {\n",
              "          const element = document.querySelector('#df-1b82f313-6508-4256-b0de-36a1bf5b08f3');\n",
              "          const dataTable =\n",
              "            await google.colab.kernel.invokeFunction('convertToInteractive',\n",
              "                                                     [key], {});\n",
              "          if (!dataTable) return;\n",
              "\n",
              "          const docLinkHtml = 'Like what you see? Visit the ' +\n",
              "            '<a target=\"_blank\" href=https://colab.research.google.com/notebooks/data_table.ipynb>data table notebook</a>'\n",
              "            + ' to learn more about interactive tables.';\n",
              "          element.innerHTML = '';\n",
              "          dataTable['output_type'] = 'display_data';\n",
              "          await google.colab.output.renderOutput(dataTable, element);\n",
              "          const docLink = document.createElement('div');\n",
              "          docLink.innerHTML = docLinkHtml;\n",
              "          element.appendChild(docLink);\n",
              "        }\n",
              "      </script>\n",
              "    </div>\n",
              "  </div>\n",
              "  "
            ]
          },
          "metadata": {},
          "execution_count": 25
        }
      ],
      "source": [
        "#checking the shape of pivot table\n",
        "\n",
        "print(piv.shape)\n",
        "\n",
        "#checking the first five rows of pivot table\n",
        "\n",
        "piv.head()"
      ]
    },
    {
      "cell_type": "code",
      "execution_count": 26,
      "metadata": {
        "id": "Ms7p71YdUbLU"
      },
      "outputs": [],
      "source": [
        "## As we are subtracting the mean from each rating to standardize, all users with only one rating or who had rated everything the same will be dropped\n",
        "# Normalizing the values in pivot table\n",
        "\n",
        "piv_norm = piv.apply(lambda x: (x-np.mean(x))/(np.max(x)-np.min(x)), axis=1)\n",
        "\n",
        "# Drop all columns containing only zeros representing users who did not rate\n",
        "\n",
        "piv_norm.fillna(0, inplace=True)\n",
        "piv_norm = piv_norm.T\n",
        "piv_norm = piv_norm.loc[:, (piv_norm!=0).any(axis=0)]\n"
      ]
    },
    {
      "cell_type": "code",
      "execution_count": 27,
      "metadata": {
        "id": "inXGLPRdVJ5-"
      },
      "outputs": [],
      "source": [
        "# importing scipy, operator\n",
        "\n",
        "import scipy as sp\n",
        "import operator"
      ]
    },
    {
      "cell_type": "code",
      "execution_count": 28,
      "metadata": {
        "id": "xpsBIdLbUbJn"
      },
      "outputs": [],
      "source": [
        "# converting the data into sparse matrix format to be read by the following functions\n",
        "\n",
        "piv_sparse = sp.sparse.csr_matrix(piv_norm.values)"
      ]
    },
    {
      "cell_type": "code",
      "execution_count": 29,
      "metadata": {
        "id": "161las8mUbGe"
      },
      "outputs": [],
      "source": [
        "# creating matrices to show the computed cosine similarity values between each user/user array pair and item/item array pair.\n",
        "\n",
        "item_similarity = cosine_similarity(piv_sparse)\n",
        "user_similarity = cosine_similarity(piv_sparse.T)"
      ]
    },
    {
      "cell_type": "code",
      "execution_count": 30,
      "metadata": {
        "id": "JWrYUdrCUbEu"
      },
      "outputs": [],
      "source": [
        "# Inserting the similarity matricies into dataframe objects\n",
        "\n",
        "#item similarity dataframe\n",
        "\n",
        "item_sim_df= pd.DataFrame(item_similarity, index= piv_norm.index, columns=piv_norm.index)\n",
        "\n",
        "#user similarity dataframe\n",
        "\n",
        "user_sim_df = pd.DataFrame(user_similarity, index= piv_norm.columns, columns=piv_norm.columns)"
      ]
    },
    {
      "cell_type": "code",
      "execution_count": 31,
      "metadata": {
        "id": "VBSl_QsTUbCh"
      },
      "outputs": [],
      "source": [
        "# writing a function which will return the top 10 games with the highest cosine similarity value\n",
        "\n",
        "\n",
        "def top_game(game):\n",
        "  count = 1\n",
        "  print('Similar game to {} include:\\n'.format(game))\n",
        "  for item in item_sim_df.sort_values(by=game, ascending =False).index[1:11]:\n",
        "    print('No. {}: {}'.format(count,item))\n",
        "    count+=1"
      ]
    },
    {
      "cell_type": "code",
      "execution_count": 32,
      "metadata": {
        "colab": {
          "base_uri": "https://localhost:8080/"
        },
        "id": "JZ3vQNUQUbA9",
        "outputId": "1672f626-82bb-4b06-889f-76ac9814ed25"
      },
      "outputs": [
        {
          "output_type": "stream",
          "name": "stdout",
          "text": [
            "Similar game to Aftermath include:\n",
            "\n",
            "No. 1: Alice Madness Returns\n",
            "No. 2: Shadow Warrior\n",
            "No. 3: Brtal Legend\n",
            "No. 4: Resident Evil 5 / Biohazard 5\n",
            "No. 5: Infestation Survivor Stories\n",
            "No. 6: Call of Juarez Gunslinger\n",
            "No. 7: The Walking Dead Season Two\n",
            "No. 8: Counter-Strike Nexon Zombies\n",
            "No. 9: Star Conflict\n",
            "No. 10: L.A. Noire\n"
          ]
        }
      ],
      "source": [
        "top_game('Aftermath')"
      ]
    },
    {
      "cell_type": "code",
      "execution_count": 33,
      "metadata": {
        "colab": {
          "base_uri": "https://localhost:8080/"
        },
        "id": "0v0_2KKkW6BN",
        "outputId": "904f4914-c5d2-4b9b-977f-188e70408bac"
      },
      "outputs": [
        {
          "output_type": "execute_result",
          "data": {
            "text/plain": [
              "Index(['100057229', '100096071', '100311267', '100322840', '100351493',\n",
              "       '100359523', '100431715', '100444456', '100519466', '100630947',\n",
              "       ...\n",
              "       '994489', '9946133', '99484728', '99640715', '99704390', '99711581',\n",
              "       '99713453', '99723205', '99766416', '99802512'],\n",
              "      dtype='object', name='User_Id', length=3056)"
            ]
          },
          "metadata": {},
          "execution_count": 33
        }
      ],
      "source": [
        "# checking the column of pivot table\n",
        "\n",
        "piv_norm.columns"
      ]
    },
    {
      "cell_type": "code",
      "execution_count": 34,
      "metadata": {
        "id": "U6_RWwwWUa_b"
      },
      "outputs": [],
      "source": [
        "# writing a function which will return the top 5 users with the highest similarity value \n",
        "\n",
        "def top_users(user):\n",
        "  if user not in piv_norm.columns:\n",
        "    return('No data available on user {}'.format(user))\n",
        "\n",
        "  print('Most Similar Users:\\n')\n",
        "  sim_values = user_sim_df.sort_values(by=user, ascending =False).loc[:, user].tolist()[1:11]\n",
        "  sim_users = user_sim_df.sort_values(by=user, ascending =False).index[1:11]\n",
        "  zipped = zip(sim_users, sim_values)\n",
        "  for user, sim in zipped:\n",
        "    print('User #{0}, Similarity value: {1:.2f}'.format(user, sim) )"
      ]
    },
    {
      "cell_type": "code",
      "execution_count": 35,
      "metadata": {
        "colab": {
          "base_uri": "https://localhost:8080/"
        },
        "id": "zgwURJjDUa84",
        "outputId": "faba8beb-f769-4184-85ac-5c13280cfcb3"
      },
      "outputs": [
        {
          "output_type": "stream",
          "name": "stdout",
          "text": [
            "Most Similar Users:\n",
            "\n",
            "User #40289887, Similarity value: 0.73\n",
            "User #185494712, Similarity value: 0.71\n",
            "User #16710264, Similarity value: 0.71\n",
            "User #20566124, Similarity value: 0.67\n",
            "User #49769103, Similarity value: 0.67\n",
            "User #15702351, Similarity value: 0.65\n",
            "User #161139120, Similarity value: 0.59\n",
            "User #202057920, Similarity value: 0.58\n",
            "User #57271785, Similarity value: 0.58\n",
            "User #33993318, Similarity value: 0.58\n"
          ]
        }
      ],
      "source": [
        "top_users('99484728')"
      ]
    },
    {
      "cell_type": "code",
      "execution_count": 36,
      "metadata": {
        "id": "Ucy6tuedUa6N"
      },
      "outputs": [],
      "source": [
        "# writing a function which constructs a list of lists containing the highest rated games per similar user, and returns the name of the game along with the frequency it appears in the list\n",
        "\n",
        "def similar_recs_user(user):\n",
        "  if user not in piv_norm.columns:\n",
        "    return('No data available on user {}'.format(user))\n",
        "\n",
        "  sim_users = user_sim_df.sort_values(by=user, ascending =False).index[1:11]\n",
        "  best=[]\n",
        "  most_common={}\n",
        "\n",
        "  for i in sim_users:\n",
        "    max_score = piv_norm.loc[:, i].max()\n",
        "    best.append(piv_norm[piv_norm.loc[:, i]==max_score].index.tolist())\n",
        "  for i in range(len(best)):\n",
        "    for j in best[i]:\n",
        "      if j in most_common:\n",
        "        most_common[j]+=1\n",
        "      else:\n",
        "        most_common[j]=1\n",
        "  sorted_list = sorted(most_common.items(), key=operator.itemgetter(1), reverse=True)\n",
        "  return sorted_list[:5]\n"
      ]
    },
    {
      "cell_type": "code",
      "execution_count": 37,
      "metadata": {
        "colab": {
          "base_uri": "https://localhost:8080/"
        },
        "id": "ewOZTTgYUa4E",
        "outputId": "c29a9ab3-48c6-4a2b-f01a-956e0f308940"
      },
      "outputs": [
        {
          "output_type": "execute_result",
          "data": {
            "text/plain": [
              "[('Robocraft', 6),\n",
              " ('BLOCKADE 3D', 2),\n",
              " (\"Garry's Mod\", 2),\n",
              " ('ARK Survival Evolved', 1),\n",
              " ('Dino D-Day', 1)]"
            ]
          },
          "metadata": {},
          "execution_count": 37
        }
      ],
      "source": [
        "similar_recs_user('100519466')\n"
      ]
    },
    {
      "cell_type": "markdown",
      "metadata": {
        "id": "B-gp2ijmu1aS"
      },
      "source": [
        "# COLLABORATIVE FILTERING USING KNN\n",
        "\n",
        "Collaborative Filtering Using k-Nearest Neighbors (kNN). kNN is a machine learning algorithm to find clusters of similar users based on common ratings, and make predictions using the average rating of top-k nearest neighbors.\n",
        "\n",
        "https://datascienceplus.com/building-a-book-recommender-system-the-basics-knn-and-matrix-factorization/"
      ]
    },
    {
      "cell_type": "code",
      "execution_count": 38,
      "metadata": {
        "colab": {
          "base_uri": "https://localhost:8080/"
        },
        "id": "t1gOIvynUaxv",
        "outputId": "61c22cde-b9df-417b-a089-ac2188169d0e"
      },
      "outputs": [
        {
          "output_type": "execute_result",
          "data": {
            "text/plain": [
              "NearestNeighbors(algorithm='brute', metric='cosine', n_jobs=1, n_neighbors=20)"
            ]
          },
          "metadata": {},
          "execution_count": 38
        }
      ],
      "source": [
        "# importing NearestNeighbors\n",
        "from sklearn.neighbors import NearestNeighbors\n",
        "\n",
        "#make an object for the NearestNeighbors Class.\n",
        "\n",
        "knn_model = NearestNeighbors(metric='cosine', algorithm='brute', n_neighbors=20, n_jobs=1)\n",
        "\n",
        "# fit the dataset\n",
        "knn_model.fit(piv_norm)"
      ]
    },
    {
      "cell_type": "markdown",
      "metadata": {
        "id": "DUQpiGdRFP6w"
      },
      "source": [
        "\n",
        "Test model and make some recommendations:"
      ]
    },
    {
      "cell_type": "code",
      "execution_count": 39,
      "metadata": {
        "colab": {
          "base_uri": "https://localhost:8080/"
        },
        "id": "lYoqkJefFujG",
        "outputId": "6265e553-1c9d-44fd-a26c-09d7836b9784"
      },
      "outputs": [
        {
          "output_type": "stream",
          "name": "stdout",
          "text": [
            "Chosen game is:  Crusader Kings II\n",
            "Recommendations for Crusader Kings II:\n",
            "\n",
            "1:WAKFU, with distance of 0.8801103060186685\n",
            "2:Rising Storm/Red Orchestra 2 Multiplayer, with distance of 0.8819415263298124\n",
            "3:Medieval II Total War Kingdoms, with distance of 0.8834098994334006\n",
            "4:Warhammer 40,000 Space Marine, with distance of 0.900538161763798\n",
            "5:Wargame Red Dragon, with distance of 0.9011883681262812\n"
          ]
        },
        {
          "output_type": "stream",
          "name": "stderr",
          "text": [
            "/usr/local/lib/python3.7/dist-packages/sklearn/base.py:451: UserWarning: X does not have valid feature names, but NearestNeighbors was fitted with feature names\n",
            "  \"X does not have valid feature names, but\"\n"
          ]
        }
      ],
      "source": [
        "# choosing random game\n",
        "\n",
        "query_index = np.random.choice(piv_norm.shape[0])\n",
        "\n",
        "# printing the name of random game\n",
        "\n",
        "print('Chosen game is: ',piv_norm.index[query_index])\n",
        "\n",
        "# using kNN algorithm to measures distance to determine the closeness of instances.\n",
        "distances, indices = knn_model.kneighbors(piv_norm.iloc[query_index,:].values.reshape(1,-1), n_neighbors=6)\n",
        "\n",
        "# picking the most popular games among the neighbors and print their names\n",
        "\n",
        "for i in range(0, len(distances.flatten())):\n",
        "  if i ==0:\n",
        "    print('Recommendations for {0}:\\n'.format(piv_norm.index[query_index]))\n",
        "  else:\n",
        "    print('{0}:{1}, with distance of {2}'.format(i, piv_norm.index[indices.flatten()[i]], distances.flatten()[i]))\n"
      ]
    },
    {
      "cell_type": "markdown",
      "metadata": {
        "id": "qQdGSocKKfYP"
      },
      "source": [
        "#Conclusion\n",
        "\n",
        "We can use different different methods based on our problem statement and dataset. Here I have used collaborative filtering technique to recommend games.We can use this method to recommend other things as well such as music, movies, books, news etc. "
      ]
    }
  ],
  "metadata": {
    "colab": {
      "collapsed_sections": [],
      "provenance": []
    },
    "kernelspec": {
      "display_name": "Python 3",
      "language": "python",
      "name": "python3"
    },
    "language_info": {
      "codemirror_mode": {
        "name": "ipython",
        "version": 3
      },
      "file_extension": ".py",
      "mimetype": "text/x-python",
      "name": "python",
      "nbconvert_exporter": "python",
      "pygments_lexer": "ipython3",
      "version": "3.7.6"
    },
    "accelerator": "GPU",
    "gpuClass": "standard"
  },
  "nbformat": 4,
  "nbformat_minor": 0
}